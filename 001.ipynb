{
  "metadata": {
    "kernelspec": {
      "name": "python",
      "display_name": "Python (Pyodide)",
      "language": "python"
    },
    "language_info": {
      "codemirror_mode": {
        "name": "python",
        "version": 3
      },
      "file_extension": ".py",
      "mimetype": "text/x-python",
      "name": "python",
      "nbconvert_exporter": "python",
      "pygments_lexer": "ipython3",
      "version": "3.8"
    }
  },
  "nbformat_minor": 5,
  "nbformat": 4,
  "cells": [
    {
      "id": "9dcbae49-fe72-4247-8fc0-df4c2d40c735",
      "cell_type": "code",
      "source": "def sum(a, b):\n    # questa funzione somma a+b\n    return a+b\n\ndef somma_interi_fino_a_n(n):\n    # questa funzione somma i primi n numeri interi\n    somma_parziale = 0\n    for i in range(n+1):\n        somma_parziale = somma_parziale + i\n    return somma_parziale",
      "metadata": {
        "trusted": true
      },
      "outputs": [],
      "execution_count": 21
    },
    {
      "id": "152b7a32-d8f5-41dd-b2f5-2c7915dd32ac",
      "cell_type": "code",
      "source": "a = 4\nb = 5\nprint(f'La somma di \"{a}\" e \"{b}\" fa \"{sum(a,b)}\"!')",
      "metadata": {
        "trusted": true
      },
      "outputs": [
        {
          "name": "stdout",
          "output_type": "stream",
          "text": "La somma di \"4\" e \"5\" fa \"9\"!\n"
        }
      ],
      "execution_count": 22
    },
    {
      "id": "fada6e44-5645-4620-8dac-4e1bf030bd6b",
      "cell_type": "code",
      "source": "numero =1000\nprint(f'La somma da \"1\" a \"{numero}\" fa \"{somma_interi_fino_a_n(numero)}\"!')",
      "metadata": {
        "trusted": true
      },
      "outputs": [
        {
          "name": "stdout",
          "output_type": "stream",
          "text": "La somma da \"1\" a \"1000\" fa \"500500\"!\n"
        }
      ],
      "execution_count": 28
    },
    {
      "id": "46a31f26-0b21-4d8a-8e09-1a19c873909b",
      "cell_type": "code",
      "source": "import numpy as np\nfrom matplotlib import pyplot as plt\nnp.sqrt(2)\nplt.plot([1,2,5,-4,5],'ro')",
      "metadata": {
        "trusted": true
      },
      "outputs": [
        {
          "execution_count": 27,
          "output_type": "execute_result",
          "data": {
            "text/plain": "[<matplotlib.lines.Line2D at 0x4253dc8>]"
          },
          "metadata": {}
        },
        {
          "output_type": "display_data",
          "data": {
            "text/plain": "<Figure size 640x480 with 1 Axes>",
            "image/png": "[encoded data removed]"
          },
          "metadata": {}
        }
      ],
      "execution_count": 27
    },
    {
      "id": "109066bf-2cd7-4cf9-b51b-0ad7fec7e14a",
      "cell_type": "code",
      "source": "",
      "metadata": {
        "trusted": true
      },
      "outputs": [],
      "execution_count": null
    }
  ]
}